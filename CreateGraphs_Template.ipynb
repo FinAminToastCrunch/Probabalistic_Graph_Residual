{
 "cells": [
  {
   "cell_type": "markdown",
   "metadata": {
    "id": "BWJHmhFROpZv"
   },
   "source": [
    "## Setup"
   ]
  },
  {
   "cell_type": "code",
   "execution_count": 65,
   "metadata": {},
   "outputs": [],
   "source": [
    "#!pip install tensorflow-datasets"
   ]
  },
  {
   "cell_type": "code",
   "execution_count": 3,
   "metadata": {
    "id": "1zbjvikUOpZv"
   },
   "outputs": [],
   "source": [
    "\n",
    "from sklearn.model_selection import train_test_split\n",
    "import numpy as np\n",
    "#import PIL.Image, PIL.ImageFont, PIL.ImageDraw\n",
    "import copy\n",
    "from scipy.stats import entropy\n",
    "from tqdm import tqdm\n",
    "from sklearn.preprocessing import OneHotEncoder\n",
    "# import tensorflow_datasets as tfds\n",
    "#from tensorflow.keras.applications.resnet50 import ResNet50\n",
    "#from tensorflow.keras.applications.resnet50 import preprocess_input, decode_predictions\n",
    "import matplotlib.pyplot as plt"
   ]
  },
  {
   "cell_type": "markdown",
   "metadata": {},
   "source": [
    "# Clean Data"
   ]
  },
  {
   "cell_type": "code",
   "execution_count": 13,
   "metadata": {},
   "outputs": [
    {
     "data": {
      "image/png": "[encoded data removed]",
      "text/plain": [
       "<Figure size 432x288 with 1 Axes>"
      ]
     },
     "metadata": {
      "needs_background": "light"
     },
     "output_type": "display_data"
    }
   ],
   "source": [
    "baseAccCora = [83.7, 83.9, 84.0] #ours, airgnn, appnp\n",
    "models = ['P. Residual', 'AirGNN', 'APPNP']\n",
    "x = [0, 1, 2]\n",
    "plt.stem(baseAccCora);\n",
    "plt.title(\"Accuracy on Clean Cora Dataset\");\n",
    "plt.ylim(80.0, 90.0);\n",
    "plt.xticks(x,models);"
   ]
  },
  {
   "cell_type": "code",
   "execution_count": 18,
   "metadata": {},
   "outputs": [
    {
     "data": {
      "image/png": "[encoded data removed]",
      "text/plain": [
       "<Figure size 432x288 with 1 Axes>"
      ]
     },
     "metadata": {
      "needs_background": "light"
     },
     "output_type": "display_data"
    }
   ],
   "source": [
    "baseAccCora = [79.2, 78.8, 79.3] #ours, airgnn, appnp\n",
    "models = ['P. Residual', 'AirGNN', 'APPNP']\n",
    "x = [0, 1, 2]\n",
    "plt.stem(baseAccCora);\n",
    "plt.title(\"Accuracy on Clean PubMed Dataset\");\n",
    "plt.ylim(78.0, 82.0);\n",
    "plt.xticks(x,models);"
   ]
  },
  {
   "cell_type": "code",
   "execution_count": 16,
   "metadata": {},
   "outputs": [
    {
     "data": {
      "image/png": "[encoded data removed]",
      "text/plain": [
       "<Figure size 432x288 with 1 Axes>"
      ]
     },
     "metadata": {
      "needs_background": "light"
     },
     "output_type": "display_data"
    }
   ],
   "source": [
    "baseAccCora = [71.6, 71.9, 71.4] #ours, airgnn, appnp\n",
    "models = ['P. Residual', 'AirGNN', 'APPNP']\n",
    "x = [0, 1, 2]\n",
    "plt.stem(baseAccCora);\n",
    "plt.title(\"Accuracy on Clean CiteSeer Dataset\");\n",
    "plt.ylim(70.0, 73);\n",
    "plt.xticks(x,models);"
   ]
  },
  {
   "cell_type": "markdown",
   "metadata": {},
   "source": [
    "# Adversarial Plots"
   ]
  },
  {
   "cell_type": "code",
   "execution_count": null,
   "metadata": {},
   "outputs": [],
   "source": [
    "###Cora\n",
    "\n",
    "pres = [94.8,93.8,93.5,92.3,89.5,83.0,66.5,63.7] \n",
    "airG = 100*[0.913, 0.913, 0.913, 0.910, 0.907, 0.897, 0.890, 0.875]\n",
    "app = 100*[0.908, 0.882 , 0.837,0.802,0.738, 0.600, 0.412,0.387]\n",
    "models = ['P. Residual', 'AirGNN', 'APPNP']\n",
    "x = [0, 1, 2, 5, 10, 20, 50, 80]\n",
    "plt.stem(baseAccCora);\n",
    "plt.title(\"Accuracy on Clean CiteSeer Dataset\");\n",
    "plt.ylim(70.0, 73);\n",
    "plt.xticks(x,models);"
   ]
  },
  {
   "cell_type": "code",
   "execution_count": null,
   "metadata": {},
   "outputs": [],
   "source": [
    "#cite seer\n",
    "\n",
    "pres = [96.8,96.8,96.5,94.8,95.7,91.7,83.0,80.5] \n",
    "airG = [] \n",
    "app = []#  {0: '0.890 ± 0.029', 1: '0.885 ± 0.024', 2: '0.867 ± 0.031', 5: '0.832 ± 0.037', 10: '0.815 ± 0.024', 20: '0.757 ± 0.026', 50: '0.670 ± 0.011', 80: '0.655 ± 0.011'}\n",
    "models = ['P. Residual', 'AirGNN', 'APPNP']\n",
    "x = [0, 1, 2, 5, 10, 20, 50, 80]\n",
    "plt.stem(baseAccCora);\n",
    "plt.title(\"Accuracy on Clean CiteSeer Dataset\");\n",
    "plt.ylim(70.0, 73);\n",
    "plt.xticks(x,models);"
   ]
  },
  {
   "cell_type": "code",
   "execution_count": null,
   "metadata": {},
   "outputs": [],
   "source": [
    "## pubmed\n",
    "\n",
    "pres = [89.8, 67.5,82.3,62.7,56.7,56.7,56.7] \n",
    "airG = []\n",
    "app = []  ##0: '0.895 ± 0.016', 1: '0.680 ± 0.016', 2: '0.635 ± 0.029', 5: '0.530 ± 0.023', 10: '0.515 ± 0.017', 20: '0.515 ± 0.017', 50: '0.515 ± 0.017', 80: '0.515 ± 0.017'}\n",
    "\n",
    "models = ['P. Residual', 'AirGNN', 'APPNP']\n",
    "x = [0, 1, 2, 5, 10, 20, 50, 80]\n",
    "plt.stem(baseAccCora);\n",
    "plt.title(\"Accuracy on Clean CiteSeer Dataset\");\n",
    "plt.ylim(70.0, 73);\n",
    "plt.xticks(x,models);"
   ]
  },
  {
   "cell_type": "code",
   "execution_count": null,
   "metadata": {},
   "outputs": [],
   "source": []
  }
 ],
 "metadata": {
  "colab": {
   "collapsed_sections": [],
   "name": "knowledge_distillation",
   "provenance": [],
   "toc_visible": true
  },
  "kernelspec": {
   "display_name": "Python 3.9.12 ('base')",
   "language": "python",
   "name": "python3"
  },
  "language_info": {
   "codemirror_mode": {
    "name": "ipython",
    "version": 3
   },
   "file_extension": ".py",
   "mimetype": "text/x-python",
   "name": "python",
   "nbconvert_exporter": "python",
   "pygments_lexer": "ipython3",
   "version": "3.9.12"
  },
  "vscode": {
   "interpreter": {
    "hash": "ad2bdc8ecc057115af97d19610ffacc2b4e99fae6737bb82f5d7fb13d2f2c186"
   }
  }
 },
 "nbformat": 4,
 "nbformat_minor": 1
}
